{
  "nbformat": 4,
  "nbformat_minor": 0,
  "metadata": {
    "colab": {
      "name": "Untitled5.ipynb",
      "provenance": [],
      "authorship_tag": "ABX9TyNsa8RW1f+J9kRW6/WpJc1J",
      "include_colab_link": true
    },
    "kernelspec": {
      "name": "python3",
      "display_name": "Python 3"
    },
    "language_info": {
      "name": "python"
    }
  },
  "cells": [
    {
      "cell_type": "markdown",
      "metadata": {
        "id": "view-in-github",
        "colab_type": "text"
      },
      "source": [
        "<a href=\"https://colab.research.google.com/github/longminh123/laptrinhpython/blob/main/Lab2.ipynb\" target=\"_parent\"><img src=\"https://colab.research.google.com/assets/colab-badge.svg\" alt=\"Open In Colab\"/></a>"
      ]
    },
    {
      "cell_type": "markdown",
      "metadata": {
        "id": "4rhqlstXeFyA"
      },
      "source": [
        "CHƯƠNG **8**"
      ]
    },
    {
      "cell_type": "markdown",
      "metadata": {
        "id": "cD3r1V9ieImR"
      },
      "source": [
        "câu 1:\n"
      ]
    },
    {
      "cell_type": "code",
      "metadata": {
        "id": "ruMQxIrdePRE"
      },
      "source": [
        "kingdoms = ['Bacteria', 'Protozoa', 'Chromista', \n",
        "'Plantae', 'Fungi','Animalia']"
      ],
      "execution_count": 1,
      "outputs": []
    },
    {
      "cell_type": "code",
      "metadata": {
        "colab": {
          "base_uri": "https://localhost:8080/"
        },
        "id": "PB2_6KodeeLs",
        "outputId": "54d2180f-eaf7-42d4-ccbd-7e7480864395"
      },
      "source": [
        "#1a\n",
        "print(\"kingdoms[0]: \",kingdoms[0])\n",
        "#1b\n",
        "print(\"kingdoms[5]: \",kingdoms[5])\n",
        "#1c\n",
        "print(\"kingdoms[:3]: \",kingdoms[:3])\n",
        "#1d\n",
        "print(\"kingdoms[2:5]: \",kingdoms[2:5])\n",
        "#1e\n",
        "print(\"kingdoms[4:]: \",kingdoms[4:])\n",
        "#1f\n",
        "print(\"kingdoms[1:0]: \",kingdoms[1:0])\n"
      ],
      "execution_count": 2,
      "outputs": [
        {
          "output_type": "stream",
          "name": "stdout",
          "text": [
            "kingdoms[0]:  Bacteria\n",
            "kingdoms[5]:  Animalia\n",
            "kingdoms[:3]:  ['Bacteria', 'Protozoa', 'Chromista']\n",
            "kingdoms[2:5]:  ['Chromista', 'Plantae', 'Fungi']\n",
            "kingdoms[4:]:  ['Fungi', 'Animalia']\n",
            "kingdoms[1:0]:  []\n"
          ]
        }
      ]
    },
    {
      "cell_type": "markdown",
      "metadata": {
        "id": "AA7SVTPyegIr"
      },
      "source": [
        "Câu 2"
      ]
    },
    {
      "cell_type": "code",
      "metadata": {
        "colab": {
          "base_uri": "https://localhost:8080/"
        },
        "id": "mbjX0GCReh-j",
        "outputId": "e18a27c2-0a67-4764-e047-fb13208e56ef"
      },
      "source": [
        "#2a\n",
        "print(\"kingdoms[-6]: \",kingdoms[-6])\n",
        "#2b\n",
        "print(\"kingdoms[-1]: \",kingdoms[-1])\n",
        "#2c\n",
        "print(\"kingdoms[-6:-3]: \",kingdoms[-6:-3])\n",
        "#2d\n",
        "print(\"kingdoms[-4:-1]: \",kingdoms[-4:-1])"
      ],
      "execution_count": 3,
      "outputs": [
        {
          "output_type": "stream",
          "name": "stdout",
          "text": [
            "kingdoms[-6]:  Bacteria\n",
            "kingdoms[-1]:  Animalia\n",
            "kingdoms[-6:-3]:  ['Bacteria', 'Protozoa', 'Chromista']\n",
            "kingdoms[-4:-1]:  ['Chromista', 'Plantae', 'Fungi']\n"
          ]
        }
      ]
    },
    {
      "cell_type": "markdown",
      "metadata": {
        "id": "LuG-xORVenaL"
      },
      "source": [
        "Câu 3"
      ]
    },
    {
      "cell_type": "code",
      "metadata": {
        "colab": {
          "base_uri": "https://localhost:8080/"
        },
        "id": "uqzyHjzyes5X",
        "outputId": "1b1ea413-36b9-4cb3-a19c-cd53260b78a3"
      },
      "source": [
        "appointments = ['9:00', '10:30', '14:00', '15:00', '15:30']\n",
        "appointments.append('16:30')\n",
        "appointments"
      ],
      "execution_count": 4,
      "outputs": [
        {
          "output_type": "execute_result",
          "data": {
            "text/plain": [
              "['9:00', '10:30', '14:00', '15:00', '15:30', '16:30']"
            ]
          },
          "metadata": {},
          "execution_count": 4
        }
      ]
    },
    {
      "cell_type": "markdown",
      "metadata": {
        "id": "uAomTgAGeuIe"
      },
      "source": [
        "Câu 4"
      ]
    },
    {
      "cell_type": "code",
      "metadata": {
        "colab": {
          "base_uri": "https://localhost:8080/"
        },
        "id": "NMCSjnFnevt2",
        "outputId": "0fc3d5ad-d2a9-49ab-d5c1-2930ffd1e905"
      },
      "source": [
        "ids =[4353, 2314, 2956, 3382, 9362, 3900]\n",
        "#4a \n",
        "ids.remove(3382)\n",
        "print(ids)\n",
        "#4b\n",
        "ids.index(9362)\n",
        "print(ids)\n",
        "#4c \n",
        "ids.insert(ids.index(9362) + 1, 4499)\n",
        "print(ids)\n",
        "#4d\n",
        "ids = ids + [5566, 1830]\n",
        "print(ids)\n",
        "#4e. \n",
        "ids.reverse()\n",
        "print(ids)\n",
        "#4f \n",
        "ids.sort()\n",
        "print(ids)"
      ],
      "execution_count": 5,
      "outputs": [
        {
          "output_type": "stream",
          "name": "stdout",
          "text": [
            "[4353, 2314, 2956, 9362, 3900]\n",
            "[4353, 2314, 2956, 9362, 3900]\n",
            "[4353, 2314, 2956, 9362, 4499, 3900]\n",
            "[4353, 2314, 2956, 9362, 4499, 3900, 5566, 1830]\n",
            "[1830, 5566, 3900, 4499, 9362, 2956, 2314, 4353]\n",
            "[1830, 2314, 2956, 3900, 4353, 4499, 5566, 9362]\n"
          ]
        }
      ]
    },
    {
      "cell_type": "markdown",
      "metadata": {
        "id": "18d1KK9Ke745"
      },
      "source": [
        "Câu 5"
      ]
    },
    {
      "cell_type": "code",
      "metadata": {
        "colab": {
          "base_uri": "https://localhost:8080/"
        },
        "id": "WLJE37w3e9iq",
        "outputId": "4d95f62a-e398-4228-8d38-33783955e782"
      },
      "source": [
        "alkaline_earth_metals = ['metals—beryllium','magnesium', ' calcium',' strontium','barium','radium']\n",
        "#5a\n",
        "alkaline_earth_metals = [4, 12, 20, 38, 56, 88]\n",
        "#5b \n",
        "print(alkaline_earth_metals[5], alkaline_earth_metals[-1])\n",
        "#5c \n",
        "print(len(alkaline_earth_metals))\n",
        "#5d\n",
        "print(max(alkaline_earth_metals))"
      ],
      "execution_count": 7,
      "outputs": [
        {
          "output_type": "stream",
          "name": "stdout",
          "text": [
            "88 88\n",
            "6\n",
            "88\n"
          ]
        }
      ]
    },
    {
      "cell_type": "markdown",
      "metadata": {
        "id": "CwAanQO8fDYR"
      },
      "source": [
        "Câu 6"
      ]
    },
    {
      "cell_type": "code",
      "metadata": {
        "colab": {
          "base_uri": "https://localhost:8080/"
        },
        "id": "sU-zDnQsfEvb",
        "outputId": "96a3debb-2a34-4d9f-f0e1-28a39a7d45f9"
      },
      "source": [
        "#6a\n",
        "temps = [25.2, 16.8, 31.4, 23.9, 28, 22.5, 19.6]\n",
        "print(temps)\n",
        "#6b\n",
        "temps.sort()\n",
        "print(temps)\n",
        "#6c\n",
        "cool_temps = temps[0:2]\n",
        "print(cool_temps)\n",
        "warm_temps = temps[2:]\n",
        "print(warm_temps)\n",
        "#6d \n",
        "temps_in_celsius = cool_temps + warm_temps\n",
        "print(temps_in_celsius)"
      ],
      "execution_count": 8,
      "outputs": [
        {
          "output_type": "stream",
          "name": "stdout",
          "text": [
            "[25.2, 16.8, 31.4, 23.9, 28, 22.5, 19.6]\n",
            "[16.8, 19.6, 22.5, 23.9, 25.2, 28, 31.4]\n",
            "[16.8, 19.6]\n",
            "[22.5, 23.9, 25.2, 28, 31.4]\n",
            "[16.8, 19.6, 22.5, 23.9, 25.2, 28, 31.4]\n"
          ]
        }
      ]
    },
    {
      "cell_type": "markdown",
      "metadata": {
        "id": "cNYZPWqvfIq0"
      },
      "source": [
        "Câu 7"
      ]
    },
    {
      "cell_type": "code",
      "metadata": {
        "colab": {
          "base_uri": "https://localhost:8080/"
        },
        "id": "YPAmgs67fJxM",
        "outputId": "6c68bdb1-c6ba-4ad1-d667-94ee3099b0eb"
      },
      "source": [
        "def same_first_last(L : list ) -> bool:\n",
        "  if len(L) >= 2 and L[0] == L[-1]:\n",
        "    print(True)\n",
        "  else:\n",
        "    print(False)\n",
        "\n",
        "same_first_last([3, 4, 2, 8, 3])\n",
        "same_first_last(['apple', 'banana', 'pear'])\n",
        "same_first_last([4.0, 4.5])"
      ],
      "execution_count": 9,
      "outputs": [
        {
          "output_type": "stream",
          "name": "stdout",
          "text": [
            "True\n",
            "False\n",
            "False\n"
          ]
        }
      ]
    },
    {
      "cell_type": "markdown",
      "metadata": {
        "id": "ip7UFib6fXOo"
      },
      "source": [
        "Câu 8:"
      ]
    },
    {
      "cell_type": "code",
      "metadata": {
        "colab": {
          "base_uri": "https://localhost:8080/"
        },
        "id": "Z9Yi6b5qfYc5",
        "outputId": "8f23c070-83f4-4771-94a8-6ad062070866"
      },
      "source": [
        "def is_longer(L1: list, L2: list) -> bool:\n",
        "  if len(L1) > len(L2):\n",
        "    print(True)\n",
        "  else:\n",
        "    print(False)\n",
        "is_longer([1, 2, 3], [4, 5])\n",
        "is_longer(['abcdef'], ['ab', 'cd', 'ef'])\n",
        "is_longer(['a', 'b', 'c'], [1, 2, 3])"
      ],
      "execution_count": 10,
      "outputs": [
        {
          "output_type": "stream",
          "name": "stdout",
          "text": [
            "True\n",
            "False\n",
            "False\n"
          ]
        }
      ]
    },
    {
      "cell_type": "markdown",
      "metadata": {
        "id": "Oojet5HVfeLv"
      },
      "source": [
        "Câu 9:"
      ]
    },
    {
      "cell_type": "code",
      "metadata": {
        "id": "TkSwto01ffIy"
      },
      "source": [
        "values = [0, 1, 2]\n",
        "values[1] = values"
      ],
      "execution_count": 11,
      "outputs": []
    },
    {
      "cell_type": "markdown",
      "metadata": {
        "id": "dRN6PToCfimw"
      },
      "source": [
        "Câu 10:"
      ]
    },
    {
      "cell_type": "code",
      "metadata": {
        "colab": {
          "base_uri": "https://localhost:8080/"
        },
        "id": "MqN2BYO3fjwJ",
        "outputId": "f5279057-3d1e-4163-b9ef-f517bcbdb29a"
      },
      "source": [
        "units =[['km', 'miles', 'league'],['kg', 'pound', 'stone']]\n",
        "#10a\n",
        "print(units[0])\n",
        "#10b \n",
        "print(units[-1] or units[1])\n",
        "#10c \n",
        "print(units[0][0])\n",
        "#10d \n",
        "print(units[1][0])\n",
        "#10e\n",
        "print(units[0][1:])\n",
        "#10f\n",
        "print(units[1][0:2])"
      ],
      "execution_count": 12,
      "outputs": [
        {
          "output_type": "stream",
          "name": "stdout",
          "text": [
            "['km', 'miles', 'league']\n",
            "['kg', 'pound', 'stone']\n",
            "km\n",
            "kg\n",
            "['miles', 'league']\n",
            "['kg', 'pound']\n"
          ]
        }
      ]
    },
    {
      "cell_type": "markdown",
      "metadata": {
        "id": "ZBOnyjoCfmHy"
      },
      "source": [
        "Câu 11"
      ]
    },
    {
      "cell_type": "code",
      "metadata": {
        "colab": {
          "base_uri": "https://localhost:8080/"
        },
        "id": "K3Jhztlsfodq",
        "outputId": "0a11253f-c276-4464-9fd3-f98a6cbdcf5b"
      },
      "source": [
        "units =[['km', 'miles', 'league'],['kg', 'pound', 'stone']]\n",
        "#11a\n",
        "print(units[-2])\n",
        "#11b\n",
        "print(units[-1])\n",
        "#11c. \n",
        "print(units[-2][-3])\n",
        "#11d\n",
        "print(units[-1][-3])\n",
        "#11e\n",
        "print(units[-2][-2:])\n",
        "#11f \n",
        "print(units[-1][:-1])"
      ],
      "execution_count": 13,
      "outputs": [
        {
          "output_type": "stream",
          "name": "stdout",
          "text": [
            "['km', 'miles', 'league']\n",
            "['kg', 'pound', 'stone']\n",
            "km\n",
            "kg\n",
            "['miles', 'league']\n",
            "['kg', 'pound']\n"
          ]
        }
      ]
    },
    {
      "cell_type": "markdown",
      "metadata": {
        "id": "uX-sEzmrfsYi"
      },
      "source": [
        "CHƯƠNG **9**"
      ]
    },
    {
      "cell_type": "markdown",
      "metadata": {
        "id": "fVzwrkYufvu6"
      },
      "source": [
        "Câu 1"
      ]
    },
    {
      "cell_type": "code",
      "metadata": {
        "colab": {
          "base_uri": "https://localhost:8080/"
        },
        "id": "j51Lb4VrfvGi",
        "outputId": "a216c757-feef-4c44-df3d-4ccb9777f860"
      },
      "source": [
        "celegans_phenotypes = ['Emb','Him', 'Unc', 'Lon', 'Dpy', 'Sma']\n",
        "for phenotype in celegans_phenotypes:\n",
        " print(phenotype)"
      ],
      "execution_count": 14,
      "outputs": [
        {
          "output_type": "stream",
          "name": "stdout",
          "text": [
            "Emb\n",
            "Him\n",
            "Unc\n",
            "Lon\n",
            "Dpy\n",
            "Sma\n"
          ]
        }
      ]
    },
    {
      "cell_type": "markdown",
      "metadata": {
        "id": "GRsURsXif971"
      },
      "source": [
        "Câu 2"
      ]
    },
    {
      "cell_type": "code",
      "metadata": {
        "colab": {
          "base_uri": "https://localhost:8080/"
        },
        "id": "ll7CovHaf-_V",
        "outputId": "c4c4554c-0c45-412b-d9d9-91ca718d6710"
      },
      "source": [
        "half_lives = [87.74, 24110.0,6537.0, 14.4, 376000.0]\n",
        "for value in half_lives:\n",
        " print(value, end=' ')"
      ],
      "execution_count": 15,
      "outputs": [
        {
          "output_type": "stream",
          "name": "stdout",
          "text": [
            "87.74 24110.0 6537.0 14.4 376000.0 "
          ]
        }
      ]
    },
    {
      "cell_type": "markdown",
      "metadata": {
        "id": "ZFmsMFFxgD-y"
      },
      "source": [
        "Câu 3"
      ]
    },
    {
      "cell_type": "code",
      "metadata": {
        "colab": {
          "base_uri": "https://localhost:8080/"
        },
        "id": "3gh9mvGQgEti",
        "outputId": "5fd39e4e-4adb-4ce6-c3dd-a5669ca31105"
      },
      "source": [
        "whales = [5, 4, 7, 3, 2, 3, 2, 6, 4, 2, 1, 7, 1, 3]\n",
        "more_whales = []\n",
        "for count in whales:\n",
        " more_whales.append(count + 1)\n",
        "print(more_whales)"
      ],
      "execution_count": 16,
      "outputs": [
        {
          "output_type": "stream",
          "name": "stdout",
          "text": [
            "[6, 5, 8, 4, 3, 4, 3, 7, 5, 3, 2, 8, 2, 4]\n"
          ]
        }
      ]
    },
    {
      "cell_type": "markdown",
      "metadata": {
        "id": "f5kbR2zBgFxR"
      },
      "source": [
        "Câu 4"
      ]
    },
    {
      "cell_type": "code",
      "metadata": {
        "colab": {
          "base_uri": "https://localhost:8080/"
        },
        "id": "IgU3R_gFgG3I",
        "outputId": "0b7952c7-1256-4dc7-fbaa-6c421e7adb46"
      },
      "source": [
        "#4a\n",
        "alkaline_earth_metals = [[4, 9.012], [12, 24.305],[20, 40.078], [38, 87.62],[56, 137.327], [88, 226]]\n",
        "#4b\n",
        "for inner_list in alkaline_earth_metals:\n",
        " print(\"inner_list[0]\",inner_list[0])\n",
        " print(\"inner_list[1]\",inner_list[1])\n",
        "#4c\n",
        "number_and_weight = []\n",
        "for inner_list in alkaline_earth_metals:\n",
        " number_and_weight.append(inner_list[0])\n",
        " number_and_weight.append(inner_list[1])\n",
        " print(number_and_weight[0])\n",
        " print(number_and_weight[1])"
      ],
      "execution_count": 17,
      "outputs": [
        {
          "output_type": "stream",
          "name": "stdout",
          "text": [
            "inner_list[0] 4\n",
            "inner_list[1] 9.012\n",
            "inner_list[0] 12\n",
            "inner_list[1] 24.305\n",
            "inner_list[0] 20\n",
            "inner_list[1] 40.078\n",
            "inner_list[0] 38\n",
            "inner_list[1] 87.62\n",
            "inner_list[0] 56\n",
            "inner_list[1] 137.327\n",
            "inner_list[0] 88\n",
            "inner_list[1] 226\n",
            "4\n",
            "9.012\n",
            "4\n",
            "9.012\n",
            "4\n",
            "9.012\n",
            "4\n",
            "9.012\n",
            "4\n",
            "9.012\n",
            "4\n",
            "9.012\n"
          ]
        }
      ]
    },
    {
      "cell_type": "markdown",
      "metadata": {
        "id": "oymWvVvMgJx1"
      },
      "source": [
        "Câu 6:"
      ]
    },
    {
      "cell_type": "code",
      "metadata": {
        "colab": {
          "base_uri": "https://localhost:8080/"
        },
        "id": "04TTQAT1gN1B",
        "outputId": "948de832-ac74-4788-925c-8c91bde2d668"
      },
      "source": [
        "text = \"\"\n",
        "while text.lower() != \"quit\":\n",
        " text = input(\"Please enter 'QUIT' or 'quit' to exit: \")\n",
        " if text == \"quit\":\n",
        "  print(\"…exiting program\")\n",
        " elif text ==\"QUIT\":\n",
        "   print(\"…exiting program\")\n",
        " else:\n",
        "  print(\"Unknown compound\")"
      ],
      "execution_count": 18,
      "outputs": [
        {
          "output_type": "stream",
          "name": "stdout",
          "text": [
            "Please enter 'QUIT' or 'quit' to exit: quit\n",
            "…exiting program\n"
          ]
        }
      ]
    },
    {
      "cell_type": "markdown",
      "metadata": {
        "id": "_pSKGq-LgRI4"
      },
      "source": [
        "Câu 7"
      ]
    },
    {
      "cell_type": "code",
      "metadata": {
        "colab": {
          "base_uri": "https://localhost:8080/"
        },
        "id": "ikmjwWYvgN6p",
        "outputId": "8f45d084-5ea7-47ca-cd80-9a08d7e79e07"
      },
      "source": [
        "country_populations = [1295, 23, 7, 3, 47, 21]\n",
        "total = 0\n",
        "for population in country_populations:\n",
        " total += population\n",
        "print(total)"
      ],
      "execution_count": 19,
      "outputs": [
        {
          "output_type": "stream",
          "name": "stdout",
          "text": [
            "1396\n"
          ]
        }
      ]
    },
    {
      "cell_type": "markdown",
      "metadata": {
        "id": "HbHfOj01gXG-"
      },
      "source": [
        "Câu 9"
      ]
    },
    {
      "cell_type": "code",
      "metadata": {
        "colab": {
          "base_uri": "https://localhost:8080/"
        },
        "id": "Kom6bCj1gYMr",
        "outputId": "a339bec3-b3be-478a-853d-65a14615844c"
      },
      "source": [
        "for number in range(33, 50):\n",
        " print(number)"
      ],
      "execution_count": 23,
      "outputs": [
        {
          "output_type": "stream",
          "name": "stdout",
          "text": [
            "33\n",
            "34\n",
            "35\n",
            "36\n",
            "37\n",
            "38\n",
            "39\n",
            "40\n",
            "41\n",
            "42\n",
            "43\n",
            "44\n",
            "45\n",
            "46\n",
            "47\n",
            "48\n",
            "49\n"
          ]
        }
      ]
    },
    {
      "cell_type": "markdown",
      "metadata": {
        "id": "KBdQjA4Rg1Wd"
      },
      "source": [
        "Câu 10"
      ]
    },
    {
      "cell_type": "code",
      "metadata": {
        "colab": {
          "base_uri": "https://localhost:8080/"
        },
        "id": "I2SyQ8o8g2mc",
        "outputId": "541e1ce7-f909-4a0f-a4bf-67b8c78456f8"
      },
      "source": [
        "for number in range(10):\n",
        " print(10 - number, end=' ')"
      ],
      "execution_count": 24,
      "outputs": [
        {
          "output_type": "stream",
          "name": "stdout",
          "text": [
            "10 9 8 7 6 5 4 3 2 1 "
          ]
        }
      ]
    },
    {
      "cell_type": "markdown",
      "metadata": {
        "id": "1raklVdKg6Jx"
      },
      "source": [
        "Câu 11"
      ]
    },
    {
      "cell_type": "code",
      "metadata": {
        "colab": {
          "base_uri": "https://localhost:8080/"
        },
        "id": "nnx-pdFwg7VL",
        "outputId": "3376545f-497b-4156-9b7f-13d69295c3a3"
      },
      "source": [
        "sum = 0\n",
        "count = 0\n",
        "for number in range(2,22):\n",
        " sum += number\n",
        " count += 1\n",
        "average = sum / count\n",
        "print(average)"
      ],
      "execution_count": 26,
      "outputs": [
        {
          "output_type": "stream",
          "name": "stdout",
          "text": [
            "11.5\n"
          ]
        }
      ]
    },
    {
      "cell_type": "markdown",
      "metadata": {
        "id": "YBmUcFWdhFoF"
      },
      "source": [
        "Câu 12:"
      ]
    },
    {
      "cell_type": "code",
      "metadata": {
        "id": "21LI0KtFhGma"
      },
      "source": [
        "def remove_neg(num_list):\n",
        " index = 0\n",
        " while index < len(num_list):\n",
        "  if num_list[index] < 0:\n",
        "    del num_list[index]\n",
        "  else:\n",
        "    index += 1"
      ],
      "execution_count": 28,
      "outputs": []
    },
    {
      "cell_type": "markdown",
      "metadata": {
        "id": "mlpCv0sShJjV"
      },
      "source": [
        "Câu 13"
      ]
    },
    {
      "cell_type": "code",
      "metadata": {
        "colab": {
          "base_uri": "https://localhost:8080/"
        },
        "id": "jl924uqnhKdL",
        "outputId": "55446e28-56ca-4127-f817-dd9d27ea0417"
      },
      "source": [
        "for width in range(1, 8):\n",
        " print('T' * width)"
      ],
      "execution_count": 29,
      "outputs": [
        {
          "output_type": "stream",
          "name": "stdout",
          "text": [
            "T\n",
            "TT\n",
            "TTT\n",
            "TTTT\n",
            "TTTTT\n",
            "TTTTTT\n",
            "TTTTTTT\n"
          ]
        }
      ]
    },
    {
      "cell_type": "markdown",
      "metadata": {
        "id": "EL73Os8yhM0o"
      },
      "source": [
        "Câu 14"
      ]
    },
    {
      "cell_type": "code",
      "metadata": {
        "colab": {
          "base_uri": "https://localhost:8080/"
        },
        "id": "KCGt7u8lhPxu",
        "outputId": "f9e10118-9329-44cd-8609-70e80f50e83f"
      },
      "source": [
        "for width in range(1, 8):\n",
        " print(' ' * (7 - width), 'T' * width, sep='')"
      ],
      "execution_count": 30,
      "outputs": [
        {
          "output_type": "stream",
          "name": "stdout",
          "text": [
            "      T\n",
            "     TT\n",
            "    TTT\n",
            "   TTTT\n",
            "  TTTTT\n",
            " TTTTTT\n",
            "TTTTTTT\n"
          ]
        }
      ]
    },
    {
      "cell_type": "markdown",
      "metadata": {
        "id": "a7PRDyGvhSz_"
      },
      "source": [
        "Câu 15"
      ]
    },
    {
      "cell_type": "code",
      "metadata": {
        "colab": {
          "base_uri": "https://localhost:8080/"
        },
        "id": "Drn3K92ThTl-",
        "outputId": "9755da63-b389-4343-8a01-a5ce83b0a984"
      },
      "source": [
        "width = 1\n",
        "while width < 8:\n",
        " print('T' * width)\n",
        " width += 1\n",
        "width = 1\n",
        "while width < 8:\n",
        " print(' ' * (7 - width), 'T' * width, sep='')\n",
        " width += 1"
      ],
      "execution_count": 31,
      "outputs": [
        {
          "output_type": "stream",
          "name": "stdout",
          "text": [
            "T\n",
            "TT\n",
            "TTT\n",
            "TTTT\n",
            "TTTTT\n",
            "TTTTTT\n",
            "TTTTTTT\n",
            "      T\n",
            "     TT\n",
            "    TTT\n",
            "   TTTT\n",
            "  TTTTT\n",
            " TTTTTT\n",
            "TTTTTTT\n"
          ]
        }
      ]
    },
    {
      "cell_type": "markdown",
      "metadata": {
        "id": "Mmc1spjihWM3"
      },
      "source": [
        "Câu 16:"
      ]
    },
    {
      "cell_type": "code",
      "metadata": {
        "id": "nVLPCrY3hXcW"
      },
      "source": [
        ""
      ],
      "execution_count": 32,
      "outputs": []
    }
  ]
}