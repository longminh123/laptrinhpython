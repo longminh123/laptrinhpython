{
  "nbformat": 4,
  "nbformat_minor": 0,
  "metadata": {
    "colab": {
      "name": "Untitled2.ipynb",
      "provenance": [],
      "authorship_tag": "ABX9TyNHGkjBNZnFdyNa5QaVV+PW",
      "include_colab_link": true
    },
    "kernelspec": {
      "name": "python3",
      "display_name": "Python 3"
    },
    "language_info": {
      "name": "python"
    }
  },
  "cells": [
    {
      "cell_type": "markdown",
      "metadata": {
        "id": "view-in-github",
        "colab_type": "text"
      },
      "source": [
        "<a href=\"https://colab.research.google.com/github/longminh123/laptrinhpython/blob/main/lab1.ipynb\" target=\"_parent\"><img src=\"https://colab.research.google.com/assets/colab-badge.svg\" alt=\"Open In Colab\"/></a>"
      ]
    },
    {
      "cell_type": "markdown",
      "metadata": {
        "id": "iPjsavcLSVpV"
      },
      "source": [
        "bt1"
      ]
    },
    {
      "cell_type": "code",
      "metadata": {
        "colab": {
          "base_uri": "https://localhost:8080/"
        },
        "id": "T4M5fyVjSabS",
        "outputId": "d47d4f7d-1ced-4e2c-efa4-11e7c3af2798"
      },
      "source": [
        "a = min(2,3,4)\n",
        "print(a)"
      ],
      "execution_count": 5,
      "outputs": [
        {
          "output_type": "stream",
          "name": "stdout",
          "text": [
            "2\n"
          ]
        }
      ]
    },
    {
      "cell_type": "code",
      "metadata": {
        "colab": {
          "base_uri": "https://localhost:8080/"
        },
        "id": "LtiqAkaqSdWT",
        "outputId": "ef02924f-64fb-4b3a-be98-855ed630a46e"
      },
      "source": [
        "b = max(2,-3,4,7,-5)\n",
        "print(b)"
      ],
      "execution_count": 6,
      "outputs": [
        {
          "output_type": "stream",
          "name": "stdout",
          "text": [
            "7\n"
          ]
        }
      ]
    },
    {
      "cell_type": "code",
      "metadata": {
        "colab": {
          "base_uri": "https://localhost:8080/"
        },
        "id": "wxbFf67ISkUK",
        "outputId": "a5c1e9bc-48dd-45e5-ff1f-d80cca1428e0"
      },
      "source": [
        "c = max(2,-3,min(4,7),5)\n",
        "print(c)"
      ],
      "execution_count": 7,
      "outputs": [
        {
          "output_type": "stream",
          "name": "stdout",
          "text": [
            "5\n"
          ]
        }
      ]
    },
    {
      "cell_type": "markdown",
      "metadata": {
        "id": "oa0OUJ0ySx9s"
      },
      "source": [
        "bt2"
      ]
    },
    {
      "cell_type": "code",
      "metadata": {
        "colab": {
          "base_uri": "https://localhost:8080/"
        },
        "id": "nhdJRUtDSzHj",
        "outputId": "8629c317-3676-44e8-e314-a326198ff197"
      },
      "source": [
        "a = min(max(3, 4), abs(-5))\n",
        "print(a)\n",
        "b = abs(min(4, 6, max(2, 8)))\n",
        "print(b)\n",
        "c = round(max(5.572, 3.258), abs(-2))\n",
        "print(c)"
      ],
      "execution_count": 8,
      "outputs": [
        {
          "output_type": "stream",
          "name": "stdout",
          "text": [
            "4\n",
            "4\n",
            "5.57\n"
          ]
        }
      ]
    },
    {
      "cell_type": "markdown",
      "metadata": {
        "id": "KzP-JNjITNa4"
      },
      "source": [
        "bt3"
      ]
    },
    {
      "cell_type": "code",
      "metadata": {
        "colab": {
          "base_uri": "https://localhost:8080/"
        },
        "id": "myaDshbdTSII",
        "outputId": "3c006c4f-d466-495a-ac68-a5b24d8e89c4"
      },
      "source": [
        "def triple(num):\n",
        "  return num * 3\n",
        "print((triple(2)))"
      ],
      "execution_count": 9,
      "outputs": [
        {
          "output_type": "stream",
          "name": "stdout",
          "text": [
            "6\n"
          ]
        }
      ]
    },
    {
      "cell_type": "markdown",
      "metadata": {
        "id": "wpEX3nW-TXAM"
      },
      "source": [
        "bt4"
      ]
    },
    {
      "cell_type": "code",
      "metadata": {
        "colab": {
          "base_uri": "https://localhost:8080/"
        },
        "id": "vrSpL5FqTZyy",
        "outputId": "007e1be5-0854-4e77-921d-3d1fb3eb4c62"
      },
      "source": [
        "def absolute_difference(number1, number2):\n",
        "    return int(abs(number1 - number2))\n",
        "print(absolute_difference(3,7))"
      ],
      "execution_count": 10,
      "outputs": [
        {
          "output_type": "stream",
          "name": "stdout",
          "text": [
            "4\n"
          ]
        }
      ]
    },
    {
      "cell_type": "markdown",
      "metadata": {
        "id": "NTpODEdSTd2C"
      },
      "source": [
        "bt5"
      ]
    },
    {
      "cell_type": "code",
      "metadata": {
        "colab": {
          "base_uri": "https://localhost:8080/"
        },
        "id": "znAhRKajTftC",
        "outputId": "33b3f37b-2309-41fc-d8f7-e380dd6f5a52"
      },
      "source": [
        "def km_to_miles(km):\n",
        " return km / 1.6\n",
        "print(km_to_miles(4))"
      ],
      "execution_count": 13,
      "outputs": [
        {
          "output_type": "stream",
          "name": "stdout",
          "text": [
            "2.5\n"
          ]
        }
      ]
    },
    {
      "cell_type": "markdown",
      "metadata": {
        "id": "i04RPQGlTivK"
      },
      "source": [
        "bt6"
      ]
    },
    {
      "cell_type": "code",
      "metadata": {
        "colab": {
          "base_uri": "https://localhost:8080/"
        },
        "id": "JIp1zXBBTjoS",
        "outputId": "e8b53425-43f5-400c-f7fd-5dd447972a76"
      },
      "source": [
        "def average_grade(grade1, grade2, grade3):\n",
        " return (grade1 + grade2 + grade3) / 3\n",
        "print(average_grade(10, 6, 2))"
      ],
      "execution_count": 14,
      "outputs": [
        {
          "output_type": "stream",
          "name": "stdout",
          "text": [
            "6.0\n"
          ]
        }
      ]
    },
    {
      "cell_type": "markdown",
      "metadata": {
        "id": "gQn1j_w3TmYE"
      },
      "source": [
        "bt7"
      ]
    },
    {
      "cell_type": "code",
      "metadata": {
        "colab": {
          "base_uri": "https://localhost:8080/"
        },
        "id": "dkbBpk2iT01R",
        "outputId": "77d6c5b5-5a05-4d30-efe8-47fa958f8690"
      },
      "source": [
        "def top_three_avg(grade1, grade2, grade3, grade4):\n",
        " total = grade1 + grade2 + grade3 + grade4\n",
        " top_three = total - min(grade1, grade2, grade3, grade4)\n",
        " return top_three / 3\n",
        " return max(average_grade(grade1, grade2, grade3),\n",
        " average_grade(grade1, grade2, grade4),\n",
        " average_grade(grade1, grade3, grade4),\n",
        " average_grade(grade2, grade3, grade4))\n",
        " return (grade1 + grade2 + grade3) / 3\n",
        "print(top_three_avg(15, 14, 13, 19))"
      ],
      "execution_count": 15,
      "outputs": [
        {
          "output_type": "stream",
          "name": "stdout",
          "text": [
            "16.0\n"
          ]
        }
      ]
    },
    {
      "cell_type": "markdown",
      "metadata": {
        "id": "6_hWhZ_nUHV8"
      },
      "source": [
        "bt8\n"
      ]
    },
    {
      "cell_type": "code",
      "metadata": {
        "colab": {
          "base_uri": "https://localhost:8080/"
        },
        "id": "DixqVTQ5UOQi",
        "outputId": "0930b7fd-8f0d-47c8-992e-39acda281a18"
      },
      "source": [
        "def weeks_elapsed(day1, day2):\n",
        "    return int(abs((day1-day2)/7))\n",
        "print(weeks_elapsed(6,13))"
      ],
      "execution_count": 16,
      "outputs": [
        {
          "output_type": "stream",
          "name": "stdout",
          "text": [
            "1\n"
          ]
        }
      ]
    },
    {
      "cell_type": "markdown",
      "metadata": {
        "id": "FzdN93xqUXx6"
      },
      "source": [
        "bt9\n"
      ]
    },
    {
      "cell_type": "code",
      "metadata": {
        "colab": {
          "base_uri": "https://localhost:8080/"
        },
        "id": "HLK8tbn4UZND",
        "outputId": "118b0f3c-2224-4172-84ac-3fb4456ec55d"
      },
      "source": [
        "def square(num):\n",
        "    return int(num**2)\n",
        "print(square(10))"
      ],
      "execution_count": 17,
      "outputs": [
        {
          "output_type": "stream",
          "name": "stdout",
          "text": [
            "100\n"
          ]
        }
      ]
    }
  ]
}