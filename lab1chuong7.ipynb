{
  "nbformat": 4,
  "nbformat_minor": 0,
  "metadata": {
    "colab": {
      "name": "Untitled3.ipynb",
      "provenance": [],
      "authorship_tag": "ABX9TyMDeGi516V51X3JF4lETszi",
      "include_colab_link": true
    },
    "kernelspec": {
      "name": "python3",
      "display_name": "Python 3"
    },
    "language_info": {
      "name": "python"
    }
  },
  "cells": [
    {
      "cell_type": "markdown",
      "metadata": {
        "id": "view-in-github",
        "colab_type": "text"
      },
      "source": [
        "<a href=\"https://colab.research.google.com/github/longminh123/laptrinhpython/blob/main/lab1chuong7.ipynb\" target=\"_parent\"><img src=\"https://colab.research.google.com/assets/colab-badge.svg\" alt=\"Open In Colab\"/></a>"
      ]
    },
    {
      "cell_type": "markdown",
      "metadata": {
        "id": "yBdegniNXV8x"
      },
      "source": [
        "câu 1"
      ]
    },
    {
      "cell_type": "code",
      "metadata": {
        "colab": {
          "base_uri": "https://localhost:8080/",
          "height": 35
        },
        "id": "vqsoCLfEYQkR",
        "outputId": "a078db7d-674e-423f-e005-952d437930ee"
      },
      "source": [
        "'hello'.upper()"
      ],
      "execution_count": 7,
      "outputs": [
        {
          "output_type": "execute_result",
          "data": {
            "application/vnd.google.colaboratory.intrinsic+json": {
              "type": "string"
            },
            "text/plain": [
              "'HELLO'"
            ]
          },
          "metadata": {},
          "execution_count": 7
        }
      ]
    },
    {
      "cell_type": "code",
      "metadata": {
        "colab": {
          "base_uri": "https://localhost:8080/",
          "height": 35
        },
        "id": "UH1Tk7_YYTWJ",
        "outputId": "24246fdf-8102-4b3c-d958-8bb1018b4ba0"
      },
      "source": [
        "'Happy Birthday!'.lower()"
      ],
      "execution_count": 8,
      "outputs": [
        {
          "output_type": "execute_result",
          "data": {
            "application/vnd.google.colaboratory.intrinsic+json": {
              "type": "string"
            },
            "text/plain": [
              "'happy birthday!'"
            ]
          },
          "metadata": {},
          "execution_count": 8
        }
      ]
    },
    {
      "cell_type": "code",
      "metadata": {
        "colab": {
          "base_uri": "https://localhost:8080/",
          "height": 35
        },
        "id": "mM4Mr_VDYXYr",
        "outputId": "7df05f67-8eb4-4ccc-e0ce-106f0b129286"
      },
      "source": [
        "'WeeeEEEEeeeEEEEeee'.swapcase()"
      ],
      "execution_count": 9,
      "outputs": [
        {
          "output_type": "execute_result",
          "data": {
            "application/vnd.google.colaboratory.intrinsic+json": {
              "type": "string"
            },
            "text/plain": [
              "'wEEEeeeeEEEeeeeEEE'"
            ]
          },
          "metadata": {},
          "execution_count": 9
        }
      ]
    },
    {
      "cell_type": "code",
      "metadata": {
        "colab": {
          "base_uri": "https://localhost:8080/"
        },
        "id": "yQ6PkbP4YYjp",
        "outputId": "05e69bbd-8384-451f-e429-e80305cb5ad7"
      },
      "source": [
        "'ABC123'.isupper()"
      ],
      "execution_count": 11,
      "outputs": [
        {
          "output_type": "execute_result",
          "data": {
            "text/plain": [
              "True"
            ]
          },
          "metadata": {},
          "execution_count": 11
        }
      ]
    },
    {
      "cell_type": "code",
      "metadata": {
        "colab": {
          "base_uri": "https://localhost:8080/"
        },
        "id": "_hLczF5yYYsa",
        "outputId": "84a53d36-d904-46dc-f631-44c18e6b38bd"
      },
      "source": [
        "'aeiouAEIOU'.count('a')"
      ],
      "execution_count": 12,
      "outputs": [
        {
          "output_type": "execute_result",
          "data": {
            "text/plain": [
              "1"
            ]
          },
          "metadata": {},
          "execution_count": 12
        }
      ]
    },
    {
      "cell_type": "code",
      "metadata": {
        "colab": {
          "base_uri": "https://localhost:8080/"
        },
        "id": "4OJYT9SlYY0K",
        "outputId": "d44a44af-67f9-4e5f-ee09-003226f61684"
      },
      "source": [
        "'hello'.endswith('o')"
      ],
      "execution_count": 13,
      "outputs": [
        {
          "output_type": "execute_result",
          "data": {
            "text/plain": [
              "True"
            ]
          },
          "metadata": {},
          "execution_count": 13
        }
      ]
    },
    {
      "cell_type": "code",
      "metadata": {
        "colab": {
          "base_uri": "https://localhost:8080/"
        },
        "id": "RZq9pu5PYY7i",
        "outputId": "d8dce3c6-3d2d-48cc-89a1-cf958c77d18b"
      },
      "source": [
        "'hello'.startswith('H')"
      ],
      "execution_count": 14,
      "outputs": [
        {
          "output_type": "execute_result",
          "data": {
            "text/plain": [
              "False"
            ]
          },
          "metadata": {},
          "execution_count": 14
        }
      ]
    },
    {
      "cell_type": "code",
      "metadata": {
        "colab": {
          "base_uri": "https://localhost:8080/",
          "height": 35
        },
        "id": "Dx_OFE2IYZCZ",
        "outputId": "3ca401ff-14d7-4129-e848-c5c554803c01"
      },
      "source": [
        "'Hello {0}'.format('Python')"
      ],
      "execution_count": 15,
      "outputs": [
        {
          "output_type": "execute_result",
          "data": {
            "application/vnd.google.colaboratory.intrinsic+json": {
              "type": "string"
            },
            "text/plain": [
              "'Hello Python'"
            ]
          },
          "metadata": {},
          "execution_count": 15
        }
      ]
    },
    {
      "cell_type": "code",
      "metadata": {
        "colab": {
          "base_uri": "https://localhost:8080/",
          "height": 35
        },
        "id": "ZWdHov7CYZJK",
        "outputId": "0915c6aa-3c0a-404a-e728-2080374856ba"
      },
      "source": [
        "\n",
        "'Hello {0}! Hello {1}!'.format('Python', 'World')"
      ],
      "execution_count": 16,
      "outputs": [
        {
          "output_type": "execute_result",
          "data": {
            "application/vnd.google.colaboratory.intrinsic+json": {
              "type": "string"
            },
            "text/plain": [
              "'Hello Python! Hello World!'"
            ]
          },
          "metadata": {},
          "execution_count": 16
        }
      ]
    },
    {
      "cell_type": "markdown",
      "metadata": {
        "id": "VpBK3z_cYzs5"
      },
      "source": [
        "câu 2"
      ]
    },
    {
      "cell_type": "code",
      "metadata": {
        "colab": {
          "base_uri": "https://localhost:8080/"
        },
        "id": "HLEKtad2Y1DR",
        "outputId": "e9de094a-9039-429f-9808-e6f32c135ff3"
      },
      "source": [
        "a='tomato'\n",
        "print(a.count('o'))"
      ],
      "execution_count": 17,
      "outputs": [
        {
          "output_type": "stream",
          "name": "stdout",
          "text": [
            "2\n"
          ]
        }
      ]
    },
    {
      "cell_type": "markdown",
      "metadata": {
        "id": "QfiXpSkuZRJ-"
      },
      "source": [
        "câu 3"
      ]
    },
    {
      "cell_type": "code",
      "metadata": {
        "colab": {
          "base_uri": "https://localhost:8080/"
        },
        "id": "S1YznzsnZSS-",
        "outputId": "2d897981-083d-49cb-a0c5-ae0b79619902"
      },
      "source": [
        "a='tomato'\n",
        "print(a.find('o'))"
      ],
      "execution_count": 18,
      "outputs": [
        {
          "output_type": "stream",
          "name": "stdout",
          "text": [
            "1\n"
          ]
        }
      ]
    },
    {
      "cell_type": "markdown",
      "metadata": {
        "id": "qdldWdrxZUrh"
      },
      "source": [
        "câu4"
      ]
    },
    {
      "cell_type": "code",
      "metadata": {
        "colab": {
          "base_uri": "https://localhost:8080/"
        },
        "id": "X1b0ENiTZWpq",
        "outputId": "407076f3-79b0-4430-ef40-d0966573ab92"
      },
      "source": [
        "a='tomato'\n",
        "print(a.find(('o'),1))"
      ],
      "execution_count": 19,
      "outputs": [
        {
          "output_type": "stream",
          "name": "stdout",
          "text": [
            "1\n"
          ]
        }
      ]
    },
    {
      "cell_type": "markdown",
      "metadata": {
        "id": "cW3cDiglZfPB"
      },
      "source": [
        "câu 5"
      ]
    },
    {
      "cell_type": "code",
      "metadata": {
        "colab": {
          "base_uri": "https://localhost:8080/"
        },
        "id": "Tf52lHfFZjXZ",
        "outputId": "5037a085-d34c-4085-997c-05b6a7d01d4d"
      },
      "source": [
        "'avocado'.find('o', 'avocado'.find('o') + 1)"
      ],
      "execution_count": 20,
      "outputs": [
        {
          "output_type": "execute_result",
          "data": {
            "text/plain": [
              "6"
            ]
          },
          "metadata": {},
          "execution_count": 20
        }
      ]
    },
    {
      "cell_type": "markdown",
      "metadata": {
        "id": "nCi6CVXuZnS5"
      },
      "source": [
        "câu 6"
      ]
    },
    {
      "cell_type": "code",
      "metadata": {
        "colab": {
          "base_uri": "https://localhost:8080/",
          "height": 35
        },
        "id": "DxzcKEuBZoXC",
        "outputId": "74d529cf-774e-4893-abf3-a3ec5389c46f"
      },
      "source": [
        "'runner'.replace('n', 'b')"
      ],
      "execution_count": 21,
      "outputs": [
        {
          "output_type": "execute_result",
          "data": {
            "application/vnd.google.colaboratory.intrinsic+json": {
              "type": "string"
            },
            "text/plain": [
              "'rubber'"
            ]
          },
          "metadata": {},
          "execution_count": 21
        }
      ]
    },
    {
      "cell_type": "markdown",
      "metadata": {
        "id": "feOruTftZspK"
      },
      "source": [
        "câu 7"
      ]
    },
    {
      "cell_type": "code",
      "metadata": {
        "colab": {
          "base_uri": "https://localhost:8080/"
        },
        "id": "8YltpuhZZtSj",
        "outputId": "e1d3728d-007f-4bc7-d87d-04c334c2c646"
      },
      "source": [
        "txt = \"     banana     \"\n",
        "\n",
        "x = txt.strip()\n",
        "\n",
        "print(\"of all fruits\",x, \"is my favorite\")"
      ],
      "execution_count": 22,
      "outputs": [
        {
          "output_type": "stream",
          "name": "stdout",
          "text": [
            "of all fruits banana is my favorite\n"
          ]
        }
      ]
    },
    {
      "cell_type": "markdown",
      "metadata": {
        "id": "oO-j0bwsZulh"
      },
      "source": [
        "câu 8"
      ]
    },
    {
      "cell_type": "code",
      "metadata": {
        "id": "hquyiKDKZvgD"
      },
      "source": [
        ""
      ],
      "execution_count": 24,
      "outputs": []
    },
    {
      "cell_type": "markdown",
      "metadata": {
        "id": "XxTzz8aTaDir"
      },
      "source": [
        "câu 9"
      ]
    },
    {
      "cell_type": "code",
      "metadata": {
        "id": "AD4yUBvwaGmv"
      },
      "source": [
        ""
      ],
      "execution_count": 28,
      "outputs": []
    },
    {
      "cell_type": "markdown",
      "metadata": {
        "id": "9EmcQd0UaYGa"
      },
      "source": [
        "câu 10"
      ]
    },
    {
      "cell_type": "code",
      "metadata": {
        "colab": {
          "base_uri": "https://localhost:8080/",
          "height": 35
        },
        "id": "3dyVEmiPabUC",
        "outputId": "77d808af-6627-47af-a8aa-c730e48aa083"
      },
      "source": [
        "#a.\n",
        "'boolean'.capitalize()\n",
        "#b.\n",
        "'CO2 H2O'.find('2')\n",
        "#c.\n",
        "'CO2 H2O'.find('2', 'CO2 H2O'.find('2') + 1)\n",
        "#d.\n",
        "'Boolean'[0].islower()\n",
        "#e.\n",
        "\"MoNDaY\".lower().capitalize()\n",
        "#f.\n",
        "\" Monday\".lstrip()"
      ],
      "execution_count": 29,
      "outputs": [
        {
          "output_type": "execute_result",
          "data": {
            "application/vnd.google.colaboratory.intrinsic+json": {
              "type": "string"
            },
            "text/plain": [
              "'Monday'"
            ]
          },
          "metadata": {},
          "execution_count": 29
        }
      ]
    }
  ]
}