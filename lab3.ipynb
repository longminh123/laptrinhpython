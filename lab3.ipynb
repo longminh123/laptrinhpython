{
  "nbformat": 4,
  "nbformat_minor": 0,
  "metadata": {
    "colab": {
      "name": "Untitled6.ipynb",
      "provenance": [],
      "authorship_tag": "ABX9TyMd29FBIPkthcSNPaM9DdEJ",
      "include_colab_link": true
    },
    "kernelspec": {
      "name": "python3",
      "display_name": "Python 3"
    },
    "language_info": {
      "name": "python"
    }
  },
  "cells": [
    {
      "cell_type": "markdown",
      "metadata": {
        "id": "view-in-github",
        "colab_type": "text"
      },
      "source": [
        "<a href=\"https://colab.research.google.com/github/longminh123/laptrinhpython/blob/main/lab3.ipynb\" target=\"_parent\"><img src=\"https://colab.research.google.com/assets/colab-badge.svg\" alt=\"Open In Colab\"/></a>"
      ]
    },
    {
      "cell_type": "markdown",
      "metadata": {
        "id": "-pnq1DUcKVVw"
      },
      "source": [
        "bt1"
      ]
    },
    {
      "cell_type": "code",
      "metadata": {
        "id": "2J67e0XqI79P"
      },
      "source": [
        "filename = input('Which file would you like to back-up? ')\n",
        "new_filename = filename + '.bak'\n",
        "backup = open(new_filename, 'w')\n",
        "for line in open(filename):\n",
        " backup.write(line)\n",
        " backup.close()"
      ],
      "execution_count": null,
      "outputs": []
    },
    {
      "cell_type": "markdown",
      "metadata": {
        "id": "X-XQ_i2aKrCY"
      },
      "source": [
        "bt2"
      ]
    },
    {
      "cell_type": "code",
      "metadata": {
        "colab": {
          "base_uri": "https://localhost:8080/"
        },
        "id": "Vz8yguVEI9K3",
        "outputId": "ab4e144d-d159-41be-9279-db4298397301"
      },
      "source": [
        "alkaline_metals = []\n",
        "for line in open('alkaline_metals.txt'):\n",
        " alkaline_metals.append(line.strip().split(' '))\n",
        "print(alkaline_metals)"
      ],
      "execution_count": 7,
      "outputs": [
        {
          "output_type": "stream",
          "name": "stdout",
          "text": [
            "[['beryllium', '4', '9.012'], ['magnesium', '12', '24.305'], ['calcium', '20', '20.078'], ['strontium', '38', '87.62'], ['barium', '56', '137.327'], ['radium', '88', '226']]\n"
          ]
        }
      ]
    },
    {
      "cell_type": "markdown",
      "metadata": {
        "id": "91S9Rjj2I_pn"
      },
      "source": [
        "bt3"
      ]
    },
    {
      "cell_type": "code",
      "metadata": {
        "colab": {
          "base_uri": "https://localhost:8080/"
        },
        "id": "TzJ3shIeJAVH",
        "outputId": "c8549cf0-b968-414b-97e3-ab18eb7244be"
      },
      "source": [
        "content = []\n",
        "for line in open('long.txt'):\n",
        "    content.append(line)\n",
        "print('Doc nguoc file :\\n ',)\n",
        "for line in reversed(content):\n",
        "    print(line)"
      ],
      "execution_count": 8,
      "outputs": [
        {
          "output_type": "stream",
          "name": "stdout",
          "text": [
            "Doc nguoc file :\n",
            " \n",
            "CNTT\n",
            "21 \n",
            "\n",
            "TP.HCM\n",
            "\n",
            "TranMinhLong\n",
            "\n"
          ]
        }
      ]
    },
    {
      "cell_type": "markdown",
      "metadata": {
        "id": "LrvwEexJJG8J"
      },
      "source": [
        "bt4"
      ]
    },
    {
      "cell_type": "code",
      "metadata": {
        "colab": {
          "base_uri": "https://localhost:8080/"
        },
        "id": "GExY7dZiJOE4",
        "outputId": "606d4f6c-fc54-4604-c745-0e5e80afc36e"
      },
      "source": [
        "def skip_header(reader):\n",
        "    \n",
        "    # Read the description line and then the comment lines.\n",
        "    line = reader.readline()    \n",
        "    line = reader.readline()\n",
        "    while line.startswith('#'):\n",
        "        line = reader.readline() \n",
        "    # Now line contains the first real piece of data.\n",
        "    return line\n",
        "\n",
        "def process_file(reader):\n",
        "    # Find the first piece of data.\n",
        "    line = skip_header(reader).strip()\n",
        "    print(line)\n",
        "    # Read the rest of the data.\n",
        "    for line in reader:\n",
        "        line = line.strip()\n",
        "        print(line)\n",
        "\n",
        "input_file = open('long.txt', 'r')\n",
        "process_file(input_file)\n",
        "input_file.close()"
      ],
      "execution_count": 10,
      "outputs": [
        {
          "output_type": "stream",
          "name": "stdout",
          "text": [
            "TP.HCM\n",
            "21\n",
            "CNTT\n"
          ]
        }
      ]
    },
    {
      "cell_type": "markdown",
      "metadata": {
        "id": "hd7-IfcJJVqo"
      },
      "source": [
        "bt5"
      ]
    },
    {
      "cell_type": "code",
      "metadata": {
        "colab": {
          "base_uri": "https://localhost:8080/"
        },
        "id": "sOfcg5m3JWgp",
        "outputId": "4ec4259c-45c7-4fe2-cadd-568874f2cd5d"
      },
      "source": [
        "def smallest_value_skip(reader):\n",
        "    line = skip_header(reader).strip()\n",
        "    # Only execute this code, if there is data following the header.\n",
        "    if line != '':\n",
        "        smallest = line\n",
        "    for line in reader:\n",
        "        line = line.strip()\n",
        "        if line != '-':\n",
        "            value = line\n",
        "            smallest = min(smallest, value)\n",
        "    return smallest\n",
        "\n",
        "input_file = open('long.txt', 'r')\n",
        "print(smallest_value_skip(input_file))\n",
        "input_file.close()"
      ],
      "execution_count": 11,
      "outputs": [
        {
          "output_type": "stream",
          "name": "stdout",
          "text": [
            "21\n"
          ]
        }
      ]
    },
    {
      "cell_type": "markdown",
      "metadata": {
        "id": "qj4IXlq7JbHY"
      },
      "source": [
        "bt6"
      ]
    },
    {
      "cell_type": "code",
      "metadata": {
        "colab": {
          "base_uri": "https://localhost:8080/"
        },
        "id": "p6w8UorGJeSw",
        "outputId": "81bd55a4-f68a-4302-8de3-f1b68db999ee"
      },
      "source": [
        "def smallest_value_skip2(reader):\n",
        "    line = skip_header(reader).strip()\n",
        "    # Now line contains the first data value; this is also the smallest value\n",
        "    # found so far, because it is the only one we have seen.\n",
        "    smallest = line\n",
        "\n",
        "    for line in reader: \n",
        "        line = line.strip()\n",
        "        if line == '-':\n",
        "            continue\n",
        "\n",
        "    value = line\n",
        "    smallest = min(smallest, value)\n",
        "\n",
        "    return smallest\n",
        "\n",
        "input_file = open('long.txt', 'r')\n",
        "print(smallest_value_skip2(input_file))\n",
        "input_file.close()"
      ],
      "execution_count": 13,
      "outputs": [
        {
          "output_type": "stream",
          "name": "stdout",
          "text": [
            "CNTT\n"
          ]
        }
      ]
    },
    {
      "cell_type": "markdown",
      "metadata": {
        "id": "bdn3U8OVJdTQ"
      },
      "source": [
        "bt7"
      ]
    },
    {
      "cell_type": "code",
      "metadata": {
        "colab": {
          "base_uri": "https://localhost:8080/"
        },
        "id": "xB_tF5fzJjvw",
        "outputId": "86d9fd97-00a1-4e17-ebe9-da9d2034e887"
      },
      "source": [
        "def read_molecule(reader):\n",
        "    content = []\n",
        "    for line in reader:\n",
        "        if not line.startswith('CMNT'):\n",
        "            if not line.isspace():\n",
        "                content.append(line.strip())\n",
        "    for line in content:\n",
        "        print(line)\n",
        "    \n",
        "input_file = open('test.pdb', 'r')\n",
        "print(read_molecule(input_file))\n",
        "input_file.close()"
      ],
      "execution_count": 15,
      "outputs": [
        {
          "output_type": "stream",
          "name": "stdout",
          "text": [
            "TranMinhLong\n",
            "TP.HCM\n",
            "21\n",
            "CNTT\n",
            "None\n"
          ]
        }
      ]
    }
  ]
}