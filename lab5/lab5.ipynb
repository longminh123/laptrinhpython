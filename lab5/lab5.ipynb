{
  "nbformat": 4,
  "nbformat_minor": 0,
  "metadata": {
    "colab": {
      "name": "Untitled8.ipynb",
      "provenance": [],
      "authorship_tag": "ABX9TyNGm0RBtvi1s5QQ0GZ/IhBL",
      "include_colab_link": true
    },
    "kernelspec": {
      "name": "python3",
      "display_name": "Python 3"
    },
    "language_info": {
      "name": "python"
    }
  },
  "cells": [
    {
      "cell_type": "markdown",
      "metadata": {
        "id": "view-in-github",
        "colab_type": "text"
      },
      "source": [
        "<a href=\"https://colab.research.google.com/github/longminh123/laptrinhpython/blob/main/lab5/lab5.ipynb\" target=\"_parent\"><img src=\"https://colab.research.google.com/assets/colab-badge.svg\" alt=\"Open In Colab\"/></a>"
      ]
    },
    {
      "cell_type": "markdown",
      "metadata": {
        "id": "njVC2eTO-jIy"
      },
      "source": [
        "bt1"
      ]
    },
    {
      "cell_type": "code",
      "metadata": {
        "id": "4D0Zrvod-kDp"
      },
      "source": [
        "from Country import Country"
      ],
      "execution_count": null,
      "outputs": []
    },
    {
      "cell_type": "code",
      "metadata": {
        "id": "GgjpKYQu_DBy"
      },
      "source": [
        "#cau 1a\n",
        "canada = Country('Canada', 34482779, 9984670)\n",
        "print('canada.name ->',canada.name)\n",
        "print('canada.population ->',canada.population)\n",
        "print('canada.area ->',canada.area)"
      ],
      "execution_count": null,
      "outputs": []
    },
    {
      "cell_type": "code",
      "metadata": {
        "id": "Yu3sq959_IYS"
      },
      "source": [
        "#cau 1b\n",
        "canada = Country('Canada', 34482779, 9984670)\n",
        "usa = Country('United States of America', 313914040, 9826675)\n",
        "print('canada.is_larger(usa) -> ',canada.is_larger(usa))"
      ],
      "execution_count": null,
      "outputs": []
    },
    {
      "cell_type": "code",
      "metadata": {
        "id": "uSZwnkgb_I5T"
      },
      "source": [
        "#cau 1c\n",
        "print('canada.population_density() ->', canada.population_density())"
      ],
      "execution_count": null,
      "outputs": []
    },
    {
      "cell_type": "code",
      "metadata": {
        "id": "fEc-rKE__MON"
      },
      "source": [
        "#cau 1d\n",
        "usa = Country('United States of America', 313914040, 9826675)\n",
        "print('usa ->',usa)"
      ],
      "execution_count": null,
      "outputs": []
    },
    {
      "cell_type": "code",
      "metadata": {
        "id": "fgfmsxL5_Nuq"
      },
      "source": [
        "#cau 1e\n",
        "canada = Country('Canada', 34482779, 9984670)\n",
        "canada\n",
        "print(canada)\n",
        "[canada]\n",
        "print([canada])"
      ],
      "execution_count": null,
      "outputs": []
    },
    {
      "cell_type": "markdown",
      "metadata": {
        "id": "z0Yr5X_8_PGa"
      },
      "source": [
        "bt2"
      ]
    },
    {
      "cell_type": "code",
      "metadata": {
        "id": "XFYj9UCg_QTy"
      },
      "source": [
        "from Continent import Continent\n",
        "from Country import Country"
      ],
      "execution_count": null,
      "outputs": []
    },
    {
      "cell_type": "code",
      "metadata": {
        "id": "MjWB3Eu__UXL"
      },
      "source": [
        "#cau 2a\n",
        "canada = Country('Canada', 34482779, 9984670)\n",
        "usa = Country('United States of America', 313914040,9826675)\n",
        "mexico = Country('Mexico', 112336538, 1943950)\n",
        "\n",
        "countries = [canada, usa , mexico]\n",
        "north_america = Continent('North America', countries)\n",
        "\n",
        "for country in north_america.countries:\n",
        "    print(country)"
      ],
      "execution_count": null,
      "outputs": []
    },
    {
      "cell_type": "code",
      "metadata": {
        "id": "eXeR9XW8_V-T"
      },
      "source": [
        "#cau 2b\n",
        "print(north_america.total_population())"
      ],
      "execution_count": null,
      "outputs": []
    },
    {
      "cell_type": "code",
      "metadata": {
        "id": "qm66iHHl_Z6y"
      },
      "source": [
        "#cau 2c\n",
        "print(north_america)"
      ],
      "execution_count": null,
      "outputs": []
    },
    {
      "cell_type": "markdown",
      "metadata": {
        "id": "eEurSrUL_a9D"
      },
      "source": [
        "bt3"
      ]
    },
    {
      "cell_type": "code",
      "metadata": {
        "id": "MCTZqzj4_bn6"
      },
      "source": [
        "from Student import Student"
      ],
      "execution_count": null,
      "outputs": []
    },
    {
      "cell_type": "code",
      "metadata": {
        "id": "gstVkNRG_dbS"
      },
      "source": [
        "student1 = Student(\"Tran Minh Long\",\"TP.HCM\",\"longminh2507@gmail.com\",3112)\n",
        "print(student1)"
      ],
      "execution_count": null,
      "outputs": []
    },
    {
      "cell_type": "code",
      "metadata": {
        "id": "WZaZJ476_wmx"
      },
      "source": [
        "student1.courses_taken = [\"Python\",\"OOP\"]\n",
        "print(student1)"
      ],
      "execution_count": null,
      "outputs": []
    },
    {
      "cell_type": "code",
      "metadata": {
        "id": "B0wBJAdo_3AK"
      },
      "source": [
        "student1.courses_taking = [\"Advanced python programming\"]\n",
        "print(student1)"
      ],
      "execution_count": null,
      "outputs": []
    },
    {
      "cell_type": "markdown",
      "metadata": {
        "id": "aA32TfHC_5Gq"
      },
      "source": [
        "bt4"
      ]
    },
    {
      "cell_type": "code",
      "metadata": {
        "id": "Q7lWBhrE_fjq"
      },
      "source": [
        "from Nematode import Nematode"
      ],
      "execution_count": null,
      "outputs": []
    },
    {
      "cell_type": "code",
      "metadata": {
        "id": "WdCeQJGz_966"
      },
      "source": [
        "nematode1 = Nematode(\"1\",\"male\",\"4\",)\n",
        "print(nematode1)"
      ],
      "execution_count": null,
      "outputs": []
    },
    {
      "cell_type": "markdown",
      "metadata": {
        "id": "-LLYb0Me__FK"
      },
      "source": [
        "bt5"
      ]
    },
    {
      "cell_type": "code",
      "metadata": {
        "id": "OFNKXN-jAAMk"
      },
      "source": [
        "from Point import Point\n",
        "from Point import LineSegment"
      ],
      "execution_count": null,
      "outputs": []
    },
    {
      "cell_type": "code",
      "metadata": {
        "id": "G8wWvfr9ABoF"
      },
      "source": [
        "segment = LineSegment(Point(1, 1), Point(3, 2))\n",
        "segment.slope()"
      ],
      "execution_count": null,
      "outputs": []
    },
    {
      "cell_type": "code",
      "metadata": {
        "id": "8NVfbv0pAEKD"
      },
      "source": [
        " segment.length()"
      ],
      "execution_count": null,
      "outputs": []
    }
  ]
}