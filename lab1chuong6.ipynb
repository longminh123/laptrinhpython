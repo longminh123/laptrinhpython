{
  "nbformat": 4,
  "nbformat_minor": 0,
  "metadata": {
    "colab": {
      "name": "Untitled4.ipynb",
      "provenance": [],
      "authorship_tag": "ABX9TyOHePgbO1aZWhrniMqU3n3P",
      "include_colab_link": true
    },
    "kernelspec": {
      "name": "python3",
      "display_name": "Python 3"
    },
    "language_info": {
      "name": "python"
    }
  },
  "cells": [
    {
      "cell_type": "markdown",
      "metadata": {
        "id": "view-in-github",
        "colab_type": "text"
      },
      "source": [
        "<a href=\"https://colab.research.google.com/github/longminh123/laptrinhpython/blob/main/lab1chuong6.ipynb\" target=\"_parent\"><img src=\"https://colab.research.google.com/assets/colab-badge.svg\" alt=\"Open In Colab\"/></a>"
      ]
    },
    {
      "cell_type": "markdown",
      "metadata": {
        "id": "7-HtqEaebaUg"
      },
      "source": [
        "câu 1"
      ]
    },
    {
      "cell_type": "code",
      "metadata": {
        "colab": {
          "base_uri": "https://localhost:8080/"
        },
        "id": "VwSKsZMQa_qy",
        "outputId": "61cba623-4238-4147-cee9-18fd38fa3c72"
      },
      "source": [
        "import math\n",
        "print(math.floor(-2.8))"
      ],
      "execution_count": 1,
      "outputs": [
        {
          "output_type": "stream",
          "name": "stdout",
          "text": [
            "-3\n"
          ]
        }
      ]
    },
    {
      "cell_type": "code",
      "metadata": {
        "colab": {
          "base_uri": "https://localhost:8080/"
        },
        "id": "creBYiWcbGfP",
        "outputId": "fb87849b-1322-4c27-e4a5-9b30f4052df6"
      },
      "source": [
        "import math\n",
        "print(abs(round(-4.3)))"
      ],
      "execution_count": 2,
      "outputs": [
        {
          "output_type": "stream",
          "name": "stdout",
          "text": [
            "4\n"
          ]
        }
      ]
    },
    {
      "cell_type": "code",
      "metadata": {
        "colab": {
          "base_uri": "https://localhost:8080/"
        },
        "id": "MwwuA6IpbIg7",
        "outputId": "75c30b81-c466-4fc9-dc0e-a1b6230cd6bd"
      },
      "source": [
        "import math\n",
        "print(math.ceil(math.sin(34.5)))"
      ],
      "execution_count": 3,
      "outputs": [
        {
          "output_type": "stream",
          "name": "stdout",
          "text": [
            "1\n"
          ]
        }
      ]
    },
    {
      "cell_type": "markdown",
      "metadata": {
        "id": "rh98GWGObWAp"
      },
      "source": [
        "câu 2"
      ]
    },
    {
      "cell_type": "code",
      "metadata": {
        "id": "ylvTQnavbIoE"
      },
      "source": [
        "import calendar"
      ],
      "execution_count": 4,
      "outputs": []
    },
    {
      "cell_type": "code",
      "metadata": {
        "colab": {
          "base_uri": "https://localhost:8080/"
        },
        "id": "UtVM_aMtbj35",
        "outputId": "93ce4045-2834-4878-9b15-f2f8fe5e3e59"
      },
      "source": [
        "print(help(calendar.isleap))"
      ],
      "execution_count": 5,
      "outputs": [
        {
          "output_type": "stream",
          "name": "stdout",
          "text": [
            "Help on function isleap in module calendar:\n",
            "\n",
            "isleap(year)\n",
            "    Return True for leap years, False for non-leap years.\n",
            "\n",
            "None\n"
          ]
        }
      ]
    },
    {
      "cell_type": "code",
      "metadata": {
        "colab": {
          "base_uri": "https://localhost:8080/"
        },
        "id": "zVTn4lrwbnSA",
        "outputId": "1e5ed9f2-8ae7-45bb-a9db-195292ba3930"
      },
      "source": [
        "print(calendar.isleap(2016))"
      ],
      "execution_count": 6,
      "outputs": [
        {
          "output_type": "stream",
          "name": "stdout",
          "text": [
            "True\n"
          ]
        }
      ]
    },
    {
      "cell_type": "code",
      "metadata": {
        "colab": {
          "base_uri": "https://localhost:8080/"
        },
        "id": "YWLqhauMbsnB",
        "outputId": "869bcbcf-c325-47de-9e47-f867ff486fc5"
      },
      "source": [
        "dir(calendar)"
      ],
      "execution_count": 7,
      "outputs": [
        {
          "output_type": "execute_result",
          "data": {
            "text/plain": [
              "['Calendar',\n",
              " 'EPOCH',\n",
              " 'FRIDAY',\n",
              " 'February',\n",
              " 'HTMLCalendar',\n",
              " 'IllegalMonthError',\n",
              " 'IllegalWeekdayError',\n",
              " 'January',\n",
              " 'LocaleHTMLCalendar',\n",
              " 'LocaleTextCalendar',\n",
              " 'MONDAY',\n",
              " 'SATURDAY',\n",
              " 'SUNDAY',\n",
              " 'THURSDAY',\n",
              " 'TUESDAY',\n",
              " 'TextCalendar',\n",
              " 'WEDNESDAY',\n",
              " '_EPOCH_ORD',\n",
              " '__all__',\n",
              " '__builtins__',\n",
              " '__cached__',\n",
              " '__doc__',\n",
              " '__file__',\n",
              " '__loader__',\n",
              " '__name__',\n",
              " '__package__',\n",
              " '__spec__',\n",
              " '_colwidth',\n",
              " '_locale',\n",
              " '_localized_day',\n",
              " '_localized_month',\n",
              " '_spacing',\n",
              " 'c',\n",
              " 'calendar',\n",
              " 'datetime',\n",
              " 'day_abbr',\n",
              " 'day_name',\n",
              " 'different_locale',\n",
              " 'error',\n",
              " 'firstweekday',\n",
              " 'format',\n",
              " 'formatstring',\n",
              " 'isleap',\n",
              " 'leapdays',\n",
              " 'main',\n",
              " 'mdays',\n",
              " 'month',\n",
              " 'month_abbr',\n",
              " 'month_name',\n",
              " 'monthcalendar',\n",
              " 'monthlen',\n",
              " 'monthrange',\n",
              " 'nextmonth',\n",
              " 'prcal',\n",
              " 'prevmonth',\n",
              " 'prmonth',\n",
              " 'prweek',\n",
              " 'repeat',\n",
              " 'setfirstweekday',\n",
              " 'sys',\n",
              " 'timegm',\n",
              " 'week',\n",
              " 'weekday',\n",
              " 'weekheader']"
            ]
          },
          "metadata": {},
          "execution_count": 7
        }
      ]
    },
    {
      "cell_type": "code",
      "metadata": {
        "colab": {
          "base_uri": "https://localhost:8080/"
        },
        "id": "J0R51RZfbvSo",
        "outputId": "e32c1acb-a77d-41e4-93b2-2be2afb10142"
      },
      "source": [
        "print(calendar.leapdays(2000, 2050))"
      ],
      "execution_count": 8,
      "outputs": [
        {
          "output_type": "stream",
          "name": "stdout",
          "text": [
            "13\n"
          ]
        }
      ]
    },
    {
      "cell_type": "code",
      "metadata": {
        "colab": {
          "base_uri": "https://localhost:8080/"
        },
        "id": "fuRwEB4mbzGg",
        "outputId": "404498a9-21b7-4bc9-ef91-301c05eb4333"
      },
      "source": [
        "print(calendar.weekday(2016, 7, 29))"
      ],
      "execution_count": 9,
      "outputs": [
        {
          "output_type": "stream",
          "name": "stdout",
          "text": [
            "4\n"
          ]
        }
      ]
    },
    {
      "cell_type": "markdown",
      "metadata": {
        "id": "LWFf0cZ6b52G"
      },
      "source": [
        "câu 3"
      ]
    },
    {
      "cell_type": "code",
      "metadata": {
        "colab": {
          "base_uri": "https://localhost:8080/"
        },
        "id": "hj9RZf9Ub6tr",
        "outputId": "f219f99d-6247-42b2-d74f-72b543e9d31d"
      },
      "source": [
        "\n",
        "def average(num1: float, num2: float):\n",
        "  return num1 + num2 / 2\n",
        "n1 = float(input(\":\"))\n",
        "n2 = float(input(\":\"))\n",
        "while average(n1,n2)<5:\n",
        "    print(\"fail\")\n",
        "    print(\"re-input\")\n",
        "    n1= float(input(\"repeat 4:\"))\n",
        "    n2 = float(input(\"repeat 5:\"))\n",
        "print(\"pass\")"
      ],
      "execution_count": 10,
      "outputs": [
        {
          "output_type": "stream",
          "name": "stdout",
          "text": [
            ":12345\n",
            ":12345\n",
            "pass\n"
          ]
        }
      ]
    }
  ]
}